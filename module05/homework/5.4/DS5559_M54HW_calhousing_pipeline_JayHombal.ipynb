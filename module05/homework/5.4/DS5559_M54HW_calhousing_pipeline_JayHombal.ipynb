{
 "cells": [
  {
   "cell_type": "markdown",
   "id": "liked-bundle",
   "metadata": {
    "ExecuteTime": {
     "end_time": "2021-03-19T01:25:34.794337Z",
     "start_time": "2021-03-19T01:25:34.791952Z"
    }
   },
   "source": [
    "### University of Virginia\n",
    "### DS 5559: Big Data Analytics\n",
    "### Linear Regression Modeling of California Home Prices\n",
    "### Last updated: Oct 21, 2019"
   ]
  },
  {
   "cell_type": "markdown",
   "id": "unlike-doubt",
   "metadata": {
    "ExecuteTime": {
     "end_time": "2021-03-19T01:25:35.453209Z",
     "start_time": "2021-03-19T01:25:35.451188Z"
    }
   },
   "source": [
    "### Name: Jay Hombal\n",
    "### Computing Id: mh4ey"
   ]
  },
  {
   "cell_type": "markdown",
   "id": "retired-mustang",
   "metadata": {
    "ExecuteTime": {
     "end_time": "2021-03-19T01:25:36.102777Z",
     "start_time": "2021-03-19T01:25:36.098224Z"
    }
   },
   "source": [
    "**TOTAL POINTS: 10**\n",
    "\n",
    "**Instructions**  \n",
    "In this project, you will work with the California Home Price dataset to train a regression model and predict median home prices. Please do the following:  \n",
    "\n",
    "1) (6 PTS) Go through all code and fill in the missing cells. This will prep data, train a model, predict, and evaluate model fit.  Compute and report the Mean Squared Error (MSE).  \n",
    "2) (1 PT) Repeat Part 1 with at least one additional feature from the original set.  \n",
    "3) (2 PTS) Repeat Part 1 with at least one engineered feature based on one or more variables from the original set.  \n",
    "4) (1 PT) Repeat Part 1 using Lasso Regression\n",
    "\n",
    "Please report resuts in the following way:  \n",
    "In the **RESULTS SECTION** table at the very bottom, there are three cells where you should copy your code from parts 2,3,4.  \n",
    "In the very last cell, print a dataframe containing two columns: `question_part` and `MSE`.  \n",
    "This dataframe must report your MSE results.\n",
    "\n",
    "**Data Source**  \n",
    "StatLib---Datasets Archive  \n",
    "http://lib.stat.cmu.edu/datasets/"
   ]
  },
  {
   "cell_type": "code",
   "execution_count": 1,
   "id": "worth-notebook",
   "metadata": {
    "ExecuteTime": {
     "end_time": "2021-03-19T02:30:33.490406Z",
     "start_time": "2021-03-19T02:30:33.312607Z"
    }
   },
   "outputs": [],
   "source": [
    "import os\n",
    "import pandas as pd\n",
    "\n",
    "from pyspark.sql import SparkSession\n",
    "from pyspark.sql.functions import col\n",
    "from pyspark.ml.linalg import DenseVector\n",
    "from pyspark.ml.feature import StandardScaler\n",
    "from pyspark.ml import Pipeline\n",
    "from pyspark.ml.regression import LinearRegression\n",
    "from pyspark.ml.tuning import CrossValidator, ParamGridBuilder\n",
    "from pyspark.ml.evaluation import RegressionEvaluator\n",
    "\n",
    "spark = SparkSession.builder.getOrCreate()"
   ]
  },
  {
   "cell_type": "code",
   "execution_count": 2,
   "id": "clinical-lighter",
   "metadata": {
    "ExecuteTime": {
     "end_time": "2021-03-19T02:30:38.113730Z",
     "start_time": "2021-03-19T02:30:33.493156Z"
    }
   },
   "outputs": [],
   "source": [
    "# read text file into pyspark dataframe\n",
    "filename = 'cal_housing_data_preproc_w_header.txt'\n",
    "df = spark.read.csv(filename,  inferSchema=True, header = True)"
   ]
  },
  {
   "cell_type": "code",
   "execution_count": 3,
   "id": "italic-climate",
   "metadata": {
    "ExecuteTime": {
     "end_time": "2021-03-19T02:30:38.516028Z",
     "start_time": "2021-03-19T02:30:38.115299Z"
    }
   },
   "outputs": [
    {
     "name": "stdout",
     "output_type": "stream",
     "text": [
      "+------------------+-----------------+------------------+-----------+--------------+----------+----------+--------+---------+\n",
      "|median_house_value|    median_income|housing_median_age|total_rooms|total_bedrooms|population|households|latitude|longitude|\n",
      "+------------------+-----------------+------------------+-----------+--------------+----------+----------+--------+---------+\n",
      "|          452600.0|           8.3252|              41.0|      880.0|         129.0|     322.0|     126.0|   37.88|  -122.23|\n",
      "|          358500.0|           8.3014|              21.0|     7099.0|        1106.0|    2401.0|    1138.0|   37.86|  -122.22|\n",
      "|          352100.0|7.257399999999999|              52.0|     1467.0|         190.0|     496.0|     177.0|   37.85|  -122.24|\n",
      "|          341300.0|           5.6431|              52.0|     1274.0|         235.0|     558.0|     219.0|   37.85|  -122.25|\n",
      "|          342200.0|           3.8462|              52.0|     1627.0|         280.0|     565.0|     259.0|   37.85|  -122.25|\n",
      "+------------------+-----------------+------------------+-----------+--------------+----------+----------+--------+---------+\n",
      "only showing top 5 rows\n",
      "\n"
     ]
    }
   ],
   "source": [
    "df.show(5)"
   ]
  },
  {
   "cell_type": "code",
   "execution_count": 4,
   "id": "accepted-commerce",
   "metadata": {
    "ExecuteTime": {
     "end_time": "2021-03-19T02:30:38.582911Z",
     "start_time": "2021-03-19T02:30:38.516867Z"
    }
   },
   "outputs": [],
   "source": [
    "# Initialize the `standardScaler`\n",
    "#stage 1 - scale the dataset\n",
    "standardScaler = StandardScaler(inputCol=\"features\", outputCol=\"features_scaled\", \n",
    "                                withStd=True, withMean=False)\n",
    "#\n",
    "maxIter=10\n",
    "lr = LinearRegression (labelCol='label',\\\n",
    "                       maxIter=maxIter)          \n",
    "pipeline = Pipeline(stages=[standardScaler, lr])\n",
    "\n",
    "paramGrid = ParamGridBuilder() \\\n",
    "    .addGrid(lr.regParam, [0.3])\\\n",
    "    .addGrid(lr.elasticNetParam, [0.8])\\\n",
    "    .build()\n",
    "\n",
    "crossval = CrossValidator(estimator=pipeline,\n",
    "                          estimatorParamMaps=paramGrid,\n",
    "                          evaluator=RegressionEvaluator(),\n",
    "                          numFolds=3)  # use 3+ folds in practice\n"
   ]
  },
  {
   "cell_type": "code",
   "execution_count": null,
   "id": "herbal-concord",
   "metadata": {},
   "outputs": [],
   "source": []
  },
  {
   "cell_type": "markdown",
   "id": "dependent-stanley",
   "metadata": {
    "ExecuteTime": {
     "end_time": "2021-03-19T01:44:01.563471Z",
     "start_time": "2021-03-19T01:44:01.561183Z"
    }
   },
   "source": [
    "#### Code for part 1"
   ]
  },
  {
   "cell_type": "markdown",
   "id": "familiar-destiny",
   "metadata": {},
   "source": [
    "**Feature Engineering**"
   ]
  },
  {
   "cell_type": "markdown",
   "id": "southeast-booking",
   "metadata": {},
   "source": [
    "We want to do three more things before training a model:  \n",
    "\n",
    "**SCALING (1 POINT)**   \n",
    "Scale the response variable median_house_value, dividing by 100000 and saving into column median_house_value_final"
   ]
  },
  {
   "cell_type": "code",
   "execution_count": 5,
   "id": "confused-measurement",
   "metadata": {
    "ExecuteTime": {
     "end_time": "2021-03-19T02:30:38.650051Z",
     "start_time": "2021-03-19T02:30:38.583689Z"
    }
   },
   "outputs": [],
   "source": [
    "df = df.withColumn('median_house_value_final', col('median_house_value')/100000)"
   ]
  },
  {
   "cell_type": "markdown",
   "id": "northern-muslim",
   "metadata": {},
   "source": [
    "**FEATURE ENGINEERING**  **(1 POINT)**  \n",
    "Add new feature:  rooms_per_household"
   ]
  },
  {
   "cell_type": "code",
   "execution_count": 6,
   "id": "suburban-valentine",
   "metadata": {
    "ExecuteTime": {
     "end_time": "2021-03-19T02:30:38.912119Z",
     "start_time": "2021-03-19T02:30:38.650838Z"
    }
   },
   "outputs": [
    {
     "name": "stdout",
     "output_type": "stream",
     "text": [
      "+------------------------+-------------------+\n",
      "|median_house_value_final|rooms_per_household|\n",
      "+------------------------+-------------------+\n",
      "|                   4.526|  6.984126984126984|\n",
      "|                   3.585|  6.238137082601054|\n",
      "|                   3.521|  8.288135593220339|\n",
      "|                   3.413| 5.8173515981735155|\n",
      "|                   3.422|  6.281853281853282|\n",
      "+------------------------+-------------------+\n",
      "only showing top 5 rows\n",
      "\n"
     ]
    }
   ],
   "source": [
    "df = df.withColumn('rooms_per_household', col('total_rooms')/col('households'))\n",
    "\n",
    "df.select('median_house_value_final','rooms_per_household').show(5)"
   ]
  },
  {
   "cell_type": "markdown",
   "id": "extreme-listening",
   "metadata": {},
   "source": [
    "**SELECT AND STANDARDIZE FEATURES**  **(2 POINTS)**"
   ]
  },
  {
   "cell_type": "code",
   "execution_count": 7,
   "id": "fifth-offer",
   "metadata": {
    "ExecuteTime": {
     "end_time": "2021-03-19T02:30:38.942166Z",
     "start_time": "2021-03-19T02:30:38.913679Z"
    }
   },
   "outputs": [],
   "source": [
    "# retain these predictors for Part 1\n",
    "vars_to_keep = [\"median_house_value_final\", \n",
    "              \"total_bedrooms\", \n",
    "              \"population\", \n",
    "              \"households\", \n",
    "              \"median_income\", \n",
    "              \"rooms_per_household\"]\n",
    "\n",
    "# subset the dataframe on these predictors\n",
    "df1 = df.select(vars_to_keep)"
   ]
  },
  {
   "cell_type": "code",
   "execution_count": 8,
   "id": "removed-tracy",
   "metadata": {
    "ExecuteTime": {
     "end_time": "2021-03-19T02:30:40.755817Z",
     "start_time": "2021-03-19T02:30:38.943241Z"
    }
   },
   "outputs": [
    {
     "data": {
      "text/plain": [
       "[Row(label=4.526, features=DenseVector([129.0, 322.0, 126.0, 8.3252, 6.9841])),\n",
       " Row(label=3.585, features=DenseVector([1106.0, 2401.0, 1138.0, 8.3014, 6.2381]))]"
      ]
     },
     "execution_count": 8,
     "metadata": {},
     "output_type": "execute_result"
    }
   ],
   "source": [
    "# extract labels and features; stored as RDDs\n",
    "transformed_data = df1.rdd.map(lambda x: (x[0], DenseVector(x[1:])))\n",
    "transformed_df = spark.createDataFrame(transformed_data, ['label', 'features'])\n",
    "transformed_df.take(2)"
   ]
  },
  {
   "cell_type": "code",
   "execution_count": 9,
   "id": "experienced-desktop",
   "metadata": {
    "ExecuteTime": {
     "end_time": "2021-03-19T02:30:40.806929Z",
     "start_time": "2021-03-19T02:30:40.756527Z"
    }
   },
   "outputs": [],
   "source": [
    "seed = 314\n",
    "train_test = [0.8, 0.2]\n",
    "train_data, test_data = transformed_df.randomSplit(train_test,seed=seed)"
   ]
  },
  {
   "cell_type": "code",
   "execution_count": 10,
   "id": "median-native",
   "metadata": {
    "ExecuteTime": {
     "end_time": "2021-03-19T02:30:53.251941Z",
     "start_time": "2021-03-19T02:30:40.807699Z"
    }
   },
   "outputs": [],
   "source": [
    "lr_cv_model1 = crossval.fit(train_data)"
   ]
  },
  {
   "cell_type": "code",
   "execution_count": 11,
   "id": "agreed-springfield",
   "metadata": {
    "ExecuteTime": {
     "end_time": "2021-03-19T02:30:53.288615Z",
     "start_time": "2021-03-19T02:30:53.254637Z"
    }
   },
   "outputs": [],
   "source": [
    "prediction1 = lr_cv_model1.transform(test_data)"
   ]
  },
  {
   "cell_type": "code",
   "execution_count": 12,
   "id": "increased-property",
   "metadata": {
    "ExecuteTime": {
     "end_time": "2021-03-19T02:30:53.873393Z",
     "start_time": "2021-03-19T02:30:53.290153Z"
    }
   },
   "outputs": [
    {
     "name": "stdout",
     "output_type": "stream",
     "text": [
      "+-------+--------------------+--------------------+------------------+\n",
      "|  label|            features|     features_scaled|        prediction|\n",
      "+-------+--------------------+--------------------+------------------+\n",
      "|0.14999|[267.0,628.0,225....|[0.62934545510244...|2.1614311926900918|\n",
      "|  0.225|[73.0,216.0,63.0,...|[0.17206823304298...| 1.741170547626018|\n",
      "|   0.25|[33.0,64.0,27.0,0...|[0.07778426973176...| 1.237948424939956|\n",
      "|  0.342|[153.0,112.0,47.0...|[0.36063615966544...|1.2959688644113232|\n",
      "|   0.35|[1747.0,6852.0,15...|[4.11785209761785...|1.6603959090871583|\n",
      "+-------+--------------------+--------------------+------------------+\n",
      "only showing top 5 rows\n",
      "\n"
     ]
    }
   ],
   "source": [
    "prediction1.show(5)"
   ]
  },
  {
   "cell_type": "code",
   "execution_count": 13,
   "id": "cleared-metro",
   "metadata": {
    "ExecuteTime": {
     "end_time": "2021-03-19T02:30:55.018718Z",
     "start_time": "2021-03-19T02:30:53.874096Z"
    }
   },
   "outputs": [
    {
     "data": {
      "text/plain": [
       "0.755384454564553"
      ]
     },
     "execution_count": 13,
     "metadata": {},
     "output_type": "execute_result"
    }
   ],
   "source": [
    "MSE1 = prediction1.select(\"prediction\", \"label\")\\\n",
    "    .rdd\\\n",
    "    .map(lambda x: (x[0] - x[1])**2)\\\n",
    "    .reduce(lambda x,y : x+y) /prediction1.count()\n",
    "MSE1"
   ]
  },
  {
   "cell_type": "markdown",
   "id": "sharing-celebrity",
   "metadata": {},
   "source": [
    "#### code for part 2"
   ]
  },
  {
   "cell_type": "code",
   "execution_count": 14,
   "id": "damaged-shanghai",
   "metadata": {
    "ExecuteTime": {
     "end_time": "2021-03-19T02:30:55.170107Z",
     "start_time": "2021-03-19T02:30:55.019449Z"
    }
   },
   "outputs": [
    {
     "name": "stdout",
     "output_type": "stream",
     "text": [
      "+------------------------+--------------+----------+----------+-------------+-------------------+------------------+\n",
      "|median_house_value_final|total_bedrooms|population|households|median_income|rooms_per_household|housing_median_age|\n",
      "+------------------------+--------------+----------+----------+-------------+-------------------+------------------+\n",
      "|                   4.526|         129.0|     322.0|     126.0|       8.3252|  6.984126984126984|              41.0|\n",
      "|                   3.585|        1106.0|    2401.0|    1138.0|       8.3014|  6.238137082601054|              21.0|\n",
      "+------------------------+--------------+----------+----------+-------------+-------------------+------------------+\n",
      "only showing top 2 rows\n",
      "\n"
     ]
    }
   ],
   "source": [
    "# Code for Part 2 - (1 PT) Repeat Part 1 with at least one additional feature from the original set.\n",
    "# retain these predictors for Part 1\n",
    "vars_to_keep2 = [\"median_house_value_final\", \n",
    "              \"total_bedrooms\", \n",
    "              \"population\", \n",
    "              \"households\", \n",
    "              \"median_income\",\n",
    "              \"rooms_per_household\",\n",
    "              \"housing_median_age\"]\n",
    "\n",
    "# subset the dataframe on these predictors\n",
    "df2 = df.select(vars_to_keep2)\n",
    "\n",
    "df2.show(2)"
   ]
  },
  {
   "cell_type": "code",
   "execution_count": 15,
   "id": "intelligent-vitamin",
   "metadata": {
    "ExecuteTime": {
     "end_time": "2021-03-19T02:30:55.629422Z",
     "start_time": "2021-03-19T02:30:55.170809Z"
    }
   },
   "outputs": [
    {
     "data": {
      "text/plain": [
       "[Row(label=4.526, features=DenseVector([129.0, 322.0, 126.0, 8.3252, 6.9841, 41.0])),\n",
       " Row(label=3.585, features=DenseVector([1106.0, 2401.0, 1138.0, 8.3014, 6.2381, 21.0]))]"
      ]
     },
     "execution_count": 15,
     "metadata": {},
     "output_type": "execute_result"
    }
   ],
   "source": [
    "# extract labels and features; stored as RDDs\n",
    "transformed_data2 = df2.rdd.map(lambda x: (x[0], DenseVector(x[1:])))\n",
    "transformed_df2 = spark.createDataFrame(transformed_data2, ['label', 'features'])\n",
    "transformed_df2.take(2)"
   ]
  },
  {
   "cell_type": "code",
   "execution_count": 16,
   "id": "handled-slide",
   "metadata": {
    "ExecuteTime": {
     "end_time": "2021-03-19T02:30:55.639168Z",
     "start_time": "2021-03-19T02:30:55.630085Z"
    }
   },
   "outputs": [],
   "source": [
    "seed = 314\n",
    "train_test = [0.8, 0.2]\n",
    "train_data2, test_data2 = transformed_df2.randomSplit(train_test,seed=seed)"
   ]
  },
  {
   "cell_type": "code",
   "execution_count": 17,
   "id": "forbidden-buying",
   "metadata": {
    "ExecuteTime": {
     "end_time": "2021-03-19T02:31:03.275864Z",
     "start_time": "2021-03-19T02:30:55.641906Z"
    }
   },
   "outputs": [],
   "source": [
    "lr_cv_model2 = crossval.fit(train_data2)"
   ]
  },
  {
   "cell_type": "code",
   "execution_count": 18,
   "id": "going-religion",
   "metadata": {
    "ExecuteTime": {
     "end_time": "2021-03-19T02:31:03.728497Z",
     "start_time": "2021-03-19T02:31:03.276650Z"
    }
   },
   "outputs": [
    {
     "name": "stdout",
     "output_type": "stream",
     "text": [
      "+-------+--------------------+--------------------+------------------+\n",
      "|  label|            features|     features_scaled|        prediction|\n",
      "+-------+--------------------+--------------------+------------------+\n",
      "|0.14999|[267.0,628.0,225....|[0.62934545510244...|2.1614311751602564|\n",
      "|  0.225|[73.0,216.0,63.0,...|[0.17206823304298...|1.7411706113489145|\n",
      "|   0.25|[33.0,64.0,27.0,0...|[0.07778426973176...|1.2379485859552657|\n",
      "|  0.342|[153.0,112.0,47.0...|[0.36063615966544...| 1.295969014209025|\n",
      "|   0.35|[1747.0,6852.0,15...|[4.11785209761785...| 1.660395988426935|\n",
      "+-------+--------------------+--------------------+------------------+\n",
      "only showing top 5 rows\n",
      "\n"
     ]
    }
   ],
   "source": [
    "prediction2 = lr_cv_model2.transform(test_data2)\n",
    "prediction2.show(5)"
   ]
  },
  {
   "cell_type": "code",
   "execution_count": 19,
   "id": "oriental-climb",
   "metadata": {
    "ExecuteTime": {
     "end_time": "2021-03-19T02:31:04.632472Z",
     "start_time": "2021-03-19T02:31:03.729255Z"
    }
   },
   "outputs": [
    {
     "data": {
      "text/plain": [
       "0.7553845110003091"
      ]
     },
     "execution_count": 19,
     "metadata": {},
     "output_type": "execute_result"
    }
   ],
   "source": [
    "MSE2 = prediction2.select(\"prediction\", \"label\")\\\n",
    "    .rdd\\\n",
    "    .map(lambda x: (x[0] - x[1])**2)\\\n",
    "    .reduce(lambda x,y : x+y) /prediction2.count()\n",
    "MSE2"
   ]
  },
  {
   "cell_type": "markdown",
   "id": "brave-given",
   "metadata": {},
   "source": [
    "#### Code for part 3"
   ]
  },
  {
   "cell_type": "code",
   "execution_count": 20,
   "id": "lonely-algebra",
   "metadata": {
    "ExecuteTime": {
     "end_time": "2021-03-19T02:31:04.815695Z",
     "start_time": "2021-03-19T02:31:04.634948Z"
    }
   },
   "outputs": [
    {
     "name": "stdout",
     "output_type": "stream",
     "text": [
      "+------------------------+-------------------+------------------------+\n",
      "|median_house_value_final|rooms_per_household|population_per_household|\n",
      "+------------------------+-------------------+------------------------+\n",
      "|                   4.526|  6.984126984126984|      2.5555555555555554|\n",
      "|                   3.585|  6.238137082601054|       2.109841827768014|\n",
      "+------------------------+-------------------+------------------------+\n",
      "only showing top 2 rows\n",
      "\n",
      "['median_house_value', 'median_income', 'housing_median_age', 'total_rooms', 'total_bedrooms', 'population', 'households', 'latitude', 'longitude', 'median_house_value_final', 'rooms_per_household', 'population_per_household']\n"
     ]
    }
   ],
   "source": [
    "# Code for Part 3 - Repeat Part 1 with at least one engineered feature based on one or more variables from the original set.\n",
    "df3 = df.withColumn('median_house_value_final', col('median_house_value')/100000)\n",
    "\n",
    "# add rooms_per_household \n",
    "df = df.withColumn('rooms_per_household', col('total_rooms')/col('households'))\n",
    "\n",
    "# add population_per_household (num people in the home)\n",
    "df3 = df.withColumn('population_per_household', col('population')/col('households'))\n",
    "\n",
    "\n",
    "df3.select('median_house_value_final','rooms_per_household','population_per_household').show(2)\n",
    "\n",
    "print(df3.columns)"
   ]
  },
  {
   "cell_type": "code",
   "execution_count": 21,
   "id": "absent-strategy",
   "metadata": {
    "ExecuteTime": {
     "end_time": "2021-03-19T02:31:04.932913Z",
     "start_time": "2021-03-19T02:31:04.816405Z"
    }
   },
   "outputs": [
    {
     "name": "stdout",
     "output_type": "stream",
     "text": [
      "+------------------------+--------------+----------+----------+-------------+-------------------+------------------------+\n",
      "|median_house_value_final|total_bedrooms|population|households|median_income|rooms_per_household|population_per_household|\n",
      "+------------------------+--------------+----------+----------+-------------+-------------------+------------------------+\n",
      "|                   4.526|         129.0|     322.0|     126.0|       8.3252|  6.984126984126984|      2.5555555555555554|\n",
      "|                   3.585|        1106.0|    2401.0|    1138.0|       8.3014|  6.238137082601054|       2.109841827768014|\n",
      "+------------------------+--------------+----------+----------+-------------+-------------------+------------------------+\n",
      "only showing top 2 rows\n",
      "\n"
     ]
    }
   ],
   "source": [
    "# retain these predictors for Part 1\n",
    "vars_to_keep2 = [\"median_house_value_final\", \n",
    "              \"total_bedrooms\", \n",
    "              \"population\", \n",
    "              \"households\", \n",
    "              \"median_income\",\n",
    "              \"rooms_per_household\",\n",
    "              \"population_per_household\"]\n",
    "\n",
    "# subset the dataframe on these predictors\n",
    "df3 = df3.select(vars_to_keep2)\n",
    "\n",
    "df3.show(2)"
   ]
  },
  {
   "cell_type": "code",
   "execution_count": 22,
   "id": "weighted-thumb",
   "metadata": {
    "ExecuteTime": {
     "end_time": "2021-03-19T02:31:05.344425Z",
     "start_time": "2021-03-19T02:31:04.934346Z"
    }
   },
   "outputs": [
    {
     "data": {
      "text/plain": [
       "[Row(label=4.526, features=DenseVector([129.0, 322.0, 126.0, 8.3252, 6.9841, 2.5556])),\n",
       " Row(label=3.585, features=DenseVector([1106.0, 2401.0, 1138.0, 8.3014, 6.2381, 2.1098]))]"
      ]
     },
     "execution_count": 22,
     "metadata": {},
     "output_type": "execute_result"
    }
   ],
   "source": [
    "# extract labels and features; stored as RDDs\n",
    "transformed_data3 = df3.rdd.map(lambda x: (x[0], DenseVector(x[1:])))\n",
    "transformed_df3 = spark.createDataFrame(transformed_data3, ['label', 'features'])\n",
    "seed = 314\n",
    "train_test = [0.8, 0.2]\n",
    "train_data3, test_data3 = transformed_df.randomSplit(train_test,seed=seed)\n",
    "transformed_df3.take(2)"
   ]
  },
  {
   "cell_type": "code",
   "execution_count": 23,
   "id": "informative-medium",
   "metadata": {
    "ExecuteTime": {
     "end_time": "2021-03-19T02:31:11.892103Z",
     "start_time": "2021-03-19T02:31:05.346986Z"
    }
   },
   "outputs": [],
   "source": [
    "lr_cv_model3 = crossval.fit(train_data3)"
   ]
  },
  {
   "cell_type": "code",
   "execution_count": 24,
   "id": "south-warren",
   "metadata": {
    "ExecuteTime": {
     "end_time": "2021-03-19T02:31:11.928113Z",
     "start_time": "2021-03-19T02:31:11.894763Z"
    }
   },
   "outputs": [],
   "source": [
    "prediction3 = lr_cv_model3.transform(test_data3)"
   ]
  },
  {
   "cell_type": "code",
   "execution_count": 25,
   "id": "logical-password",
   "metadata": {
    "ExecuteTime": {
     "end_time": "2021-03-19T02:31:12.439938Z",
     "start_time": "2021-03-19T02:31:11.930885Z"
    }
   },
   "outputs": [
    {
     "name": "stdout",
     "output_type": "stream",
     "text": [
      "+-------+--------------------+--------------------+------------------+\n",
      "|  label|            features|     features_scaled|        prediction|\n",
      "+-------+--------------------+--------------------+------------------+\n",
      "|0.14999|[267.0,628.0,225....|[0.62934545510244...|2.1614311926900918|\n",
      "|  0.225|[73.0,216.0,63.0,...|[0.17206823304298...| 1.741170547626018|\n",
      "|   0.25|[33.0,64.0,27.0,0...|[0.07778426973176...| 1.237948424939956|\n",
      "|  0.342|[153.0,112.0,47.0...|[0.36063615966544...|1.2959688644113232|\n",
      "|   0.35|[1747.0,6852.0,15...|[4.11785209761785...|1.6603959090871583|\n",
      "+-------+--------------------+--------------------+------------------+\n",
      "only showing top 5 rows\n",
      "\n"
     ]
    }
   ],
   "source": [
    "prediction3.show(5)"
   ]
  },
  {
   "cell_type": "code",
   "execution_count": 26,
   "id": "bored-smell",
   "metadata": {
    "ExecuteTime": {
     "end_time": "2021-03-19T02:31:13.315148Z",
     "start_time": "2021-03-19T02:31:12.440650Z"
    }
   },
   "outputs": [
    {
     "data": {
      "text/plain": [
       "0.755384454564553"
      ]
     },
     "execution_count": 26,
     "metadata": {},
     "output_type": "execute_result"
    }
   ],
   "source": [
    "MSE3 = prediction3.select(\"prediction\", \"label\")\\\n",
    "    .rdd\\\n",
    "    .map(lambda x: (x[0] - x[1])**2)\\\n",
    "    .reduce(lambda x,y : x+y) /prediction3.count()\n",
    "MSE3"
   ]
  },
  {
   "cell_type": "markdown",
   "id": "stock-scale",
   "metadata": {},
   "source": [
    "#### Code for Part 4"
   ]
  },
  {
   "cell_type": "code",
   "execution_count": 27,
   "id": "valid-boxing",
   "metadata": {
    "ExecuteTime": {
     "end_time": "2021-03-19T02:31:13.323058Z",
     "start_time": "2021-03-19T02:31:13.317437Z"
    }
   },
   "outputs": [],
   "source": [
    "# setting parameters for Lasso regiression\n",
    "# elasticNetParam corresponds to α and regParam corresponds to λ\n",
    "# Lasso - When λ>0 (i.e. regParam >0) and α = 1 (i.e. elasticNetParam =1), then the penalty is an L1 penalty.\n",
    "\n",
    "paramGrid2 = ParamGridBuilder() \\\n",
    "    .addGrid(lr.regParam, [0.1])\\\n",
    "    .addGrid(lr.elasticNetParam, [1.0])\\\n",
    "    .build()\n",
    "\n",
    "crossval2 = CrossValidator(estimator=pipeline,\n",
    "                          estimatorParamMaps=paramGrid2,\n",
    "                          evaluator=RegressionEvaluator(),\n",
    "                          numFolds=3)  # use 3+ folds in practice"
   ]
  },
  {
   "cell_type": "code",
   "execution_count": 28,
   "id": "common-vanilla",
   "metadata": {
    "ExecuteTime": {
     "end_time": "2021-03-19T02:31:19.199116Z",
     "start_time": "2021-03-19T02:31:13.325478Z"
    }
   },
   "outputs": [],
   "source": [
    "lr_cv_model4 = crossval2.fit(train_data)"
   ]
  },
  {
   "cell_type": "code",
   "execution_count": 29,
   "id": "ordered-maryland",
   "metadata": {
    "ExecuteTime": {
     "end_time": "2021-03-19T02:31:19.220512Z",
     "start_time": "2021-03-19T02:31:19.201761Z"
    }
   },
   "outputs": [],
   "source": [
    "prediction4 = lr_cv_model4.transform(test_data)"
   ]
  },
  {
   "cell_type": "code",
   "execution_count": 30,
   "id": "starting-heavy",
   "metadata": {
    "ExecuteTime": {
     "end_time": "2021-03-19T02:31:19.586661Z",
     "start_time": "2021-03-19T02:31:19.223347Z"
    }
   },
   "outputs": [
    {
     "name": "stdout",
     "output_type": "stream",
     "text": [
      "+-------+--------------------+--------------------+------------------+\n",
      "|  label|            features|     features_scaled|        prediction|\n",
      "+-------+--------------------+--------------------+------------------+\n",
      "|0.14999|[267.0,628.0,225....|[0.62934545510244...| 2.190421297020153|\n",
      "|  0.225|[73.0,216.0,63.0,...|[0.17206823304298...|1.6357883023074404|\n",
      "|   0.25|[33.0,64.0,27.0,0...|[0.07778426973176...|0.9716680802759292|\n",
      "|  0.342|[153.0,112.0,47.0...|[0.36063615966544...|1.0482397280771312|\n",
      "|   0.35|[1747.0,6852.0,15...|[4.11785209761785...|1.5291871246910729|\n",
      "+-------+--------------------+--------------------+------------------+\n",
      "only showing top 5 rows\n",
      "\n"
     ]
    }
   ],
   "source": [
    "prediction4.show(5)"
   ]
  },
  {
   "cell_type": "code",
   "execution_count": 31,
   "id": "curious-purpose",
   "metadata": {
    "ExecuteTime": {
     "end_time": "2021-03-19T02:31:20.336369Z",
     "start_time": "2021-03-19T02:31:19.587413Z"
    }
   },
   "outputs": [
    {
     "data": {
      "text/plain": [
       "0.691575957689366"
      ]
     },
     "execution_count": 31,
     "metadata": {},
     "output_type": "execute_result"
    }
   ],
   "source": [
    "MSE4 = prediction4.select(\"prediction\", \"label\")\\\n",
    "    .rdd\\\n",
    "    .map(lambda x: (x[0] - x[1])**2)\\\n",
    "    .reduce(lambda x,y : x+y) /prediction4.count()\n",
    "MSE4"
   ]
  },
  {
   "cell_type": "markdown",
   "id": "interim-norfolk",
   "metadata": {},
   "source": [
    "#### MSE for Question part 1 to part 4"
   ]
  },
  {
   "cell_type": "markdown",
   "id": "center-press",
   "metadata": {
    "ExecuteTime": {
     "end_time": "2021-03-19T02:24:28.461726Z",
     "start_time": "2021-03-19T02:24:28.458475Z"
    }
   },
   "source": [
    "Print dataframe containing `question_part`, `MSE` values for parts 1-4 in the next cell."
   ]
  },
  {
   "cell_type": "code",
   "execution_count": 32,
   "id": "latter-phase",
   "metadata": {
    "ExecuteTime": {
     "end_time": "2021-03-19T02:31:20.348847Z",
     "start_time": "2021-03-19T02:31:20.337053Z"
    }
   },
   "outputs": [
    {
     "data": {
      "text/html": [
       "<div>\n",
       "<style scoped>\n",
       "    .dataframe tbody tr th:only-of-type {\n",
       "        vertical-align: middle;\n",
       "    }\n",
       "\n",
       "    .dataframe tbody tr th {\n",
       "        vertical-align: top;\n",
       "    }\n",
       "\n",
       "    .dataframe thead th {\n",
       "        text-align: right;\n",
       "    }\n",
       "</style>\n",
       "<table border=\"1\" class=\"dataframe\">\n",
       "  <thead>\n",
       "    <tr style=\"text-align: right;\">\n",
       "      <th></th>\n",
       "      <th>Question part</th>\n",
       "      <th>MSE</th>\n",
       "    </tr>\n",
       "  </thead>\n",
       "  <tbody>\n",
       "    <tr>\n",
       "      <th>0</th>\n",
       "      <td>Part 1</td>\n",
       "      <td>0.755384</td>\n",
       "    </tr>\n",
       "    <tr>\n",
       "      <th>1</th>\n",
       "      <td>Part 2</td>\n",
       "      <td>0.755385</td>\n",
       "    </tr>\n",
       "    <tr>\n",
       "      <th>2</th>\n",
       "      <td>Part 3</td>\n",
       "      <td>0.755384</td>\n",
       "    </tr>\n",
       "    <tr>\n",
       "      <th>3</th>\n",
       "      <td>Part 4</td>\n",
       "      <td>0.691576</td>\n",
       "    </tr>\n",
       "  </tbody>\n",
       "</table>\n",
       "</div>"
      ],
      "text/plain": [
       "  Question part       MSE\n",
       "0        Part 1  0.755384\n",
       "1        Part 2  0.755385\n",
       "2        Part 3  0.755384\n",
       "3        Part 4  0.691576"
      ]
     },
     "execution_count": 32,
     "metadata": {},
     "output_type": "execute_result"
    }
   ],
   "source": [
    "# print dataframe containing question_part, MSE\n",
    "mse_dict = {\n",
    "        'Question part' :  ['Part 1',\n",
    "                            'Part 2',\n",
    "                            'Part 3',\n",
    "                            'Part 4'],\n",
    "                           \n",
    "         'MSE' : [MSE1, MSE2, MSE3, MSE4]\n",
    "        }\n",
    "pd.set_option(\"display.max_columns\", 100)\n",
    "pd.set_option(\"max_colwidth\", 80)\n",
    "mse_df = pd.DataFrame(mse_dict)\n",
    "mse_df.head()"
   ]
  },
  {
   "cell_type": "code",
   "execution_count": 33,
   "id": "rotary-monday",
   "metadata": {
    "ExecuteTime": {
     "end_time": "2021-03-19T02:31:23.994509Z",
     "start_time": "2021-03-19T02:31:20.351309Z"
    }
   },
   "outputs": [
    {
     "name": "stdout",
     "output_type": "stream",
     "text": [
      "[NbConvertApp] Converting notebook DS5559_M54HW_calhousing_pipeline_JayHombal.ipynb to pdf\n",
      "[NbConvertApp] Writing 61121 bytes to DS5559_M54HW_calhousing_pipeline_JayHombal.pdf\n"
     ]
    }
   ],
   "source": [
    "!jupyter nbconvert DS5559_M54HW_calhousing_pipeline_JayHombal.ipynb --to pdf"
   ]
  }
 ],
 "metadata": {
  "kernelspec": {
   "display_name": "Python 3.8.5 64-bit",
   "language": "python",
   "name": "python38564bit1d9fcce1e7154b63be1b4250f364c6c9"
  },
  "language_info": {
   "codemirror_mode": {
    "name": "ipython",
    "version": 3
   },
   "file_extension": ".py",
   "mimetype": "text/x-python",
   "name": "python",
   "nbconvert_exporter": "python",
   "pygments_lexer": "ipython3",
   "version": "3.8.5"
  }
 },
 "nbformat": 4,
 "nbformat_minor": 5
}
