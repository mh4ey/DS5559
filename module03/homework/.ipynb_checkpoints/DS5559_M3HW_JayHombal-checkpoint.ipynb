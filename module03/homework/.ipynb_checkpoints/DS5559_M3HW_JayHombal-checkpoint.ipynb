{
 "cells": [
  {
   "cell_type": "markdown",
   "metadata": {},
   "source": [
    "### Commercial Data Analysis\n",
    "\n",
    "### University of Virginia\n",
    "### DS 5559: Big Data Analytics\n",
    "### Last Updated: December 19, 2019\n",
    "\n",
    "#### Name: Jay Hombal\n",
    "#### Computing Id: mh4ey"
   ]
  },
  {
   "cell_type": "markdown",
   "metadata": {},
   "source": [
    "### INSTRUCTIONS  \n",
    "In this assignment, you will work with a dataset containing information about businesses.  Each record is a business location.  Follow the steps below, writing and running the code in blocks, and displaying the solutions.  \n",
    "\n",
    "Each question part is worth 1 POINT, for a total of 15 POINTS."
   ]
  },
  {
   "cell_type": "code",
   "execution_count": 1,
   "metadata": {},
   "outputs": [],
   "source": [
    "from pyspark.sql import SparkSession\n",
    "from pyspark.sql.functions import col, avg\n",
    "\n",
    "spark = SparkSession.builder \\\n",
    "        .appName(\"comm\") \\\n",
    "        .getOrCreate()"
   ]
  },
  {
   "cell_type": "code",
   "execution_count": 2,
   "metadata": {},
   "outputs": [],
   "source": [
    "# note that read.json can read a zipped JSON directly\n",
    "df = spark.read.json('part-00000-a159c41a-bc58-4476-9b78-c437667f9c2b-c000.json.gz')"
   ]
  },
  {
   "cell_type": "markdown",
   "metadata": {},
   "source": [
    "**1. (1 PT) Read in the dataset and show the number of records**"
   ]
  },
  {
   "cell_type": "code",
   "execution_count": 3,
   "metadata": {},
   "outputs": [
    {
     "data": {
      "text/plain": [
       "154679"
      ]
     },
     "execution_count": 3,
     "metadata": {},
     "output_type": "execute_result"
    }
   ],
   "source": [
    "df.count()"
   ]
  },
  {
   "cell_type": "markdown",
   "metadata": {},
   "source": [
    "**2. (1 PT) Print the schema**"
   ]
  },
  {
   "cell_type": "code",
   "execution_count": 4,
   "metadata": {},
   "outputs": [
    {
     "name": "stdout",
     "output_type": "stream",
     "text": [
      "root\n",
      " |-- address: struct (nullable = true)\n",
      " |    |-- city: string (nullable = true)\n",
      " |    |-- coordinates: struct (nullable = true)\n",
      " |    |    |-- lat: double (nullable = true)\n",
      " |    |    |-- lon: double (nullable = true)\n",
      " |    |-- country: string (nullable = true)\n",
      " |    |-- county: string (nullable = true)\n",
      " |    |-- full_address: string (nullable = true)\n",
      " |    |-- highway_number: string (nullable = true)\n",
      " |    |-- is_headquarters: boolean (nullable = true)\n",
      " |    |-- is_parsed: boolean (nullable = true)\n",
      " |    |-- post_direction: string (nullable = true)\n",
      " |    |-- pre_direction: string (nullable = true)\n",
      " |    |-- secondary_number: string (nullable = true)\n",
      " |    |-- state: string (nullable = true)\n",
      " |    |-- street: string (nullable = true)\n",
      " |    |-- street_address: string (nullable = true)\n",
      " |    |-- street_number: string (nullable = true)\n",
      " |    |-- street_type: string (nullable = true)\n",
      " |    |-- type_of_address: string (nullable = true)\n",
      " |    |-- zip: string (nullable = true)\n",
      " |    |-- zip_suffix: string (nullable = true)\n",
      " |-- business_tags: struct (nullable = true)\n",
      " |    |-- no: array (nullable = true)\n",
      " |    |    |-- element: string (containsNull = true)\n",
      " |    |-- tags: array (nullable = true)\n",
      " |    |    |-- element: struct (containsNull = true)\n",
      " |    |    |    |-- name: string (nullable = true)\n",
      " |    |    |    |-- value: string (nullable = true)\n",
      " |    |-- yes: array (nullable = true)\n",
      " |    |    |-- element: string (containsNull = true)\n",
      " |-- hours: struct (nullable = true)\n",
      " |    |-- any_day_is_24: boolean (nullable = true)\n",
      " |    |-- friday_close: string (nullable = true)\n",
      " |    |-- friday_lb: long (nullable = true)\n",
      " |    |-- friday_open: string (nullable = true)\n",
      " |    |-- friday_total_seconds: long (nullable = true)\n",
      " |    |-- hours: struct (nullable = true)\n",
      " |    |    |-- Friday: string (nullable = true)\n",
      " |    |    |-- Monday: string (nullable = true)\n",
      " |    |    |-- Saturday: string (nullable = true)\n",
      " |    |    |-- Sunday: string (nullable = true)\n",
      " |    |    |-- Thursday: string (nullable = true)\n",
      " |    |    |-- Tuesday: string (nullable = true)\n",
      " |    |    |-- Wednesday: string (nullable = true)\n",
      " |    |-- monday_close: string (nullable = true)\n",
      " |    |-- monday_lb: long (nullable = true)\n",
      " |    |-- monday_open: string (nullable = true)\n",
      " |    |-- monday_total_seconds: long (nullable = true)\n",
      " |    |-- saturday_close: string (nullable = true)\n",
      " |    |-- saturday_lb: long (nullable = true)\n",
      " |    |-- saturday_open: string (nullable = true)\n",
      " |    |-- saturday_total_seconds: long (nullable = true)\n",
      " |    |-- sunday_close: string (nullable = true)\n",
      " |    |-- sunday_lb: long (nullable = true)\n",
      " |    |-- sunday_open: string (nullable = true)\n",
      " |    |-- sunday_total_seconds: long (nullable = true)\n",
      " |    |-- thursday_close: string (nullable = true)\n",
      " |    |-- thursday_lb: long (nullable = true)\n",
      " |    |-- thursday_open: string (nullable = true)\n",
      " |    |-- thursday_total_seconds: long (nullable = true)\n",
      " |    |-- tuesday_close: string (nullable = true)\n",
      " |    |-- tuesday_lb: long (nullable = true)\n",
      " |    |-- tuesday_open: string (nullable = true)\n",
      " |    |-- tuesday_total_seconds: long (nullable = true)\n",
      " |    |-- wednesday_close: string (nullable = true)\n",
      " |    |-- wednesday_lb: long (nullable = true)\n",
      " |    |-- wednesday_open: string (nullable = true)\n",
      " |    |-- wednesday_total_seconds: long (nullable = true)\n",
      " |    |-- week_total_hours_pretty: string (nullable = true)\n",
      " |    |-- week_total_minutes_pretty: string (nullable = true)\n",
      " |    |-- week_total_seconds: long (nullable = true)\n",
      " |-- id: string (nullable = true)\n",
      " |-- menu: struct (nullable = true)\n",
      " |    |-- price_range: string (nullable = true)\n",
      " |    |-- url: string (nullable = true)\n",
      " |-- reviews: array (nullable = true)\n",
      " |    |-- element: struct (containsNull = true)\n",
      " |    |    |-- content: string (nullable = true)\n",
      " |    |    |-- date: string (nullable = true)\n",
      " |    |    |-- dislikes: long (nullable = true)\n",
      " |    |    |-- gender: string (nullable = true)\n",
      " |    |    |-- id: string (nullable = true)\n",
      " |    |    |-- language: string (nullable = true)\n",
      " |    |    |-- likes: long (nullable = true)\n",
      " |    |    |-- source: string (nullable = true)\n",
      " |    |    |-- stars: long (nullable = true)\n",
      " |    |    |-- tags: array (nullable = true)\n",
      " |    |    |    |-- element: string (containsNull = true)\n",
      " |    |    |-- url: string (nullable = true)\n",
      " |    |    |-- user: string (nullable = true)\n",
      " |    |    |-- user_id: string (nullable = true)\n",
      " |-- urls: struct (nullable = true)\n",
      " |    |-- domain: string (nullable = true)\n",
      " |    |-- domains: array (nullable = true)\n",
      " |    |    |-- element: string (containsNull = true)\n",
      " |    |-- email: string (nullable = true)\n",
      " |    |-- url: string (nullable = true)\n",
      " |    |-- urls: array (nullable = true)\n",
      " |    |    |-- element: string (containsNull = true)\n",
      " |-- webpage: struct (nullable = true)\n",
      " |    |-- content: string (nullable = true)\n",
      " |    |-- count: long (nullable = true)\n",
      " |    |-- elapsed: double (nullable = true)\n",
      " |    |-- success: boolean (nullable = true)\n",
      " |    |-- timestamp: string (nullable = true)\n",
      " |    |-- title: string (nullable = true)\n",
      " |    |-- url: string (nullable = true)\n",
      " |    |-- urlhash: string (nullable = true)\n",
      " |    |-- validurl: string (nullable = true)\n",
      "\n"
     ]
    }
   ],
   "source": [
    "df.printSchema()"
   ]
  },
  {
   "cell_type": "code",
   "execution_count": 5,
   "metadata": {},
   "outputs": [
    {
     "name": "stdout",
     "output_type": "stream",
     "text": [
      "+--------------------+--------------------+--------------------+----------------+--------------------+--------------------+--------------------+--------------------+\n",
      "|             address|       business_tags|               hours|              id|                menu|             reviews|                urls|             webpage|\n",
      "+--------------------+--------------------+--------------------+----------------+--------------------+--------------------+--------------------+--------------------+\n",
      "|[Woodburn, [45.15...|                null|                null|000023995a540868|                null|                  []|[woodburn.k12.or....|[Educational Tech...|\n",
      "|[Hialeah, [25.884...|[[], [[has_atm, Y...|[, 1900,, 0830, 3...|0000821a1394916e|                null|                null|[, [yelp.com],,, ...|                null|\n",
      "|[Rochester, [43.1...|[[], [[accepts_cr...|[, 1700,, 0830, 3...|000136e65d50c3b7|                null|[[New (to me) qui...|[usps.com, [yelp....|[Welcome | USPS G...|\n",
      "|[West Palm Beach,...|                null|                null|00014329a70b9869|                null|                null|                null|                null|\n",
      "|[Eufaula, [35.283...|                null|[, 1700,, 0830, 3...|00031c0a83f00657|                null|                null|[drsodomcoburnand...|[DRS. COBURN, RIC...|\n",
      "|[Birmingham, [33....|                null|                null|0003b7589a4e12a0|                null|[[Dr Cox and his ...|[, [google.com],,...|                null|\n",
      "|[Houston, [29.722...|[[], [[takes_rese...|[, 2400,, 1100,, ...|00045f958e4bb02a|[2, https://www.y...|[[Dine in I resca...|[pizzahut.com, [f...|                null|\n",
      "|[Flushing, [40.75...|[, [[specialties,...|[,,,,, [, 10:00-1...|00055eb14ea38ca2|                null|                null|                null|                null|\n",
      "|[Helen, [34.68952...|[[by_appointment_...|[, 1800,, 1000, 2...|00059519f0dba1b4|                null|[[Dishware, decor...|[facebook.com, [f...|                null|\n",
      "|[Glen Burnie, [39...|                null|                null|0005f8f0b2beeac4|                null|                null|[ecoopercontracti...|[24 HR Contractin...|\n",
      "|[New York, [40.72...|                null|                null|000673b2dac411ea|                null|                null|[phdbiosciences.c...|[CONTACT | PHD Bi...|\n",
      "|[Menlo Park, [37....|                null|                null|0006d5aa170bae22|                null|                  []|[guidespark.com, ...|[Employee Communi...|\n",
      "|[Auburn, [38.9405...|                null|                null|00080a1e9b3607c0|                null|                null|[, [google.com],,...|                null|\n",
      "|[Port Jefferson S...|                null|                null|0008bc70f8ba62bf|                null|[[I enjoyed the p...|[fullgospelcc.org...|[Full Gospel Chri...|\n",
      "|[Olean,, US,,,,, ...|                null|                null|0008c39401d7ce3b|                null|                null|[locality.com, [f...|[locality.com Wel...|\n",
      "|[Virgie,, US,,,,,...|                null|                null|0009cd9a574331a9|                null|                null|[, [facebook.com]...|                null|\n",
      "|[Pacifica, [37.60...|                null|[true,,,, 86400, ...|000a1df4c8e0ecd2|                null|[[If you shop at ...|[shell.us, [shell...|[Shell in the Uni...|\n",
      "|[Carrboro,, US,,,...|                null|                null|000a863f1d02dd78|                null|                null|[, [linkedin.com]...|                null|\n",
      "|[Indianapolis, [3...|                null|[,,,,, [Closed, C...|000b4a9059161ee7|                null|                null|[drhortondentistr...|[Andrey M. Horton...|\n",
      "|[Dearborn, [42.33...|[[], [[specialtie...|                null|000bf1e934ac9cb6|                null|                  []|[accesscommunity....|[ACCESS | Assisti...|\n",
      "+--------------------+--------------------+--------------------+----------------+--------------------+--------------------+--------------------+--------------------+\n",
      "only showing top 20 rows\n",
      "\n"
     ]
    }
   ],
   "source": [
    "df.select('*').show()"
   ]
  },
  {
   "cell_type": "markdown",
   "metadata": {},
   "source": [
    "**3. (1 PT) Show the first 5 records**  \n",
    "hint: reaching deeper fields in json hierarchy can be done like this:  \n",
    "\n",
    "`df.select('address.street_number')`"
   ]
  },
  {
   "cell_type": "code",
   "execution_count": 6,
   "metadata": {},
   "outputs": [
    {
     "name": "stdout",
     "output_type": "stream",
     "text": [
      "+-------------+\n",
      "|street_number|\n",
      "+-------------+\n",
      "|          965|\n",
      "|         1137|\n",
      "|         1614|\n",
      "|          846|\n",
      "|          403|\n",
      "+-------------+\n",
      "only showing top 5 rows\n",
      "\n"
     ]
    }
   ],
   "source": [
    "df.select('address.street_number').show(5)"
   ]
  },
  {
   "cell_type": "markdown",
   "metadata": {},
   "source": [
    "**4. (1 PT) Location**  \n",
    "\n",
    "Count the number of records where the city is Houston"
   ]
  },
  {
   "cell_type": "code",
   "execution_count": 7,
   "metadata": {},
   "outputs": [
    {
     "data": {
      "text/plain": [
       "1668"
      ]
     },
     "execution_count": 7,
     "metadata": {},
     "output_type": "execute_result"
    }
   ],
   "source": [
    "df.filter(df['address.city'] == 'Houston').count()"
   ]
  },
  {
   "cell_type": "markdown",
   "metadata": {},
   "source": [
    "**5. (1 PT) Hours**  \n",
    "\n",
    "Count the number of records where closing time on Friday is 7pm"
   ]
  },
  {
   "cell_type": "code",
   "execution_count": 8,
   "metadata": {},
   "outputs": [
    {
     "data": {
      "text/plain": [
       "3305"
      ]
     },
     "execution_count": 8,
     "metadata": {},
     "output_type": "execute_result"
    }
   ],
   "source": [
    "df.filter(df['hours.friday_close'] == '1900').count()"
   ]
  },
  {
   "cell_type": "markdown",
   "metadata": {},
   "source": [
    "**6. (1 PT) Location and Hours**  \n",
    "\n",
    "Count the number of records where city is Houston and closing time on Friday is 7pm"
   ]
  },
  {
   "cell_type": "code",
   "execution_count": 9,
   "metadata": {},
   "outputs": [
    {
     "data": {
      "text/plain": [
       "42"
      ]
     },
     "execution_count": 9,
     "metadata": {},
     "output_type": "execute_result"
    }
   ],
   "source": [
    "df.filter((df.address.city == 'Houston') & (df.hours.friday_close == '1900')).count()"
   ]
  },
  {
   "cell_type": "code",
   "execution_count": 10,
   "metadata": {},
   "outputs": [
    {
     "data": {
      "text/plain": [
       "42"
      ]
     },
     "execution_count": 10,
     "metadata": {},
     "output_type": "execute_result"
    }
   ],
   "source": [
    "df.filter((df['address.city'] == 'Houston') & (df['hours.friday_close'] == '1900')).count()"
   ]
  },
  {
   "cell_type": "markdown",
   "metadata": {},
   "source": [
    "**7. (1 PT) Price Range**  \n",
    "\n",
    "Price range is quoted in number of dollar signs.  Count the number of records with price range greater than or equal to three."
   ]
  },
  {
   "cell_type": "code",
   "execution_count": 11,
   "metadata": {},
   "outputs": [
    {
     "data": {
      "text/plain": [
       "115"
      ]
     },
     "execution_count": 11,
     "metadata": {},
     "output_type": "execute_result"
    }
   ],
   "source": [
    "df.select('menu.price_range')\\\n",
    "    .where((df.menu.price_range >= 3) & (df.menu.price_range.isNotNull())) \\\n",
    "    .count()"
   ]
  },
  {
   "cell_type": "code",
   "execution_count": 12,
   "metadata": {},
   "outputs": [
    {
     "data": {
      "text/plain": [
       "115"
      ]
     },
     "execution_count": 12,
     "metadata": {},
     "output_type": "execute_result"
    }
   ],
   "source": [
    "df.where(df.menu.price_range >= 3 ).count()"
   ]
  },
  {
   "cell_type": "markdown",
   "metadata": {},
   "source": [
    "**8. (1 PT) COMPANY HEADQUARTERS**  \n",
    "\n",
    "Show the distribution of the `address.is_headquarters` field:  \n",
    "how many locations are HQ / are NOT HQ / are null?"
   ]
  },
  {
   "cell_type": "code",
   "execution_count": 13,
   "metadata": {},
   "outputs": [
    {
     "name": "stdout",
     "output_type": "stream",
     "text": [
      "+---------------+-----+\n",
      "|is_headquarters|count|\n",
      "+---------------+-----+\n",
      "|           null|87625|\n",
      "|           true|  318|\n",
      "|          false|66736|\n",
      "+---------------+-----+\n",
      "\n"
     ]
    }
   ],
   "source": [
    "df.groupby(\"address.is_headquarters\").count().show()"
   ]
  },
  {
   "cell_type": "markdown",
   "metadata": {},
   "source": [
    "**9. (1 PT) Webpage URLs**  \n",
    "\n",
    "Register the dataframe as a temp table.  \n",
    "Next, use Spark SQL to select the webpage title where the webpage url (accessed under `webpage.url`) is *Target.com*.  \n",
    "\n",
    "Show the first record from your query, using show(1, False) to show the full text from the first record.\n",
    "\n"
   ]
  },
  {
   "cell_type": "code",
   "execution_count": 14,
   "metadata": {},
   "outputs": [],
   "source": [
    "df.createOrReplaceTempView(\"business_temp_table\")"
   ]
  },
  {
   "cell_type": "code",
   "execution_count": 15,
   "metadata": {},
   "outputs": [
    {
     "name": "stdout",
     "output_type": "stream",
     "text": [
      "+----+----------+\n",
      "|city|url       |\n",
      "+----+----------+\n",
      "|Yuma|Target.com|\n",
      "+----+----------+\n",
      "only showing top 1 row\n",
      "\n"
     ]
    }
   ],
   "source": [
    "spark.sql(\"SELECT address.city,webpage.url FROM business_temp_table WHERE webpage.url = 'Target.com' order by address.city DESC\").show(1,False)"
   ]
  },
  {
   "cell_type": "markdown",
   "metadata": {},
   "source": [
    "**10. (1 PT) Analysis on Ratings**  \n",
    "\n",
    "The reviews contains information such as the number of stars for each review (the *rating*).  \n",
    "The ratings are stored in an array (`reviews.stars`) for each business location (you should check for yourself). Return the top five most common rating arrays.  For example, an array might look like: \n",
    "[5, 5]\n",
    "\n"
   ]
  },
  {
   "cell_type": "code",
   "execution_count": 16,
   "metadata": {},
   "outputs": [
    {
     "name": "stdout",
     "output_type": "stream",
     "text": [
      "+--------------------+\n",
      "|               stars|\n",
      "+--------------------+\n",
      "|              [4, 4]|\n",
      "|                 [5]|\n",
      "|               [,,,]|\n",
      "|[,,,,,,,, 1, 5, 2...|\n",
      "|                  []|\n",
      "+--------------------+\n",
      "\n"
     ]
    }
   ],
   "source": [
    "spark.sql(\"\"\"SELECT reviews.stars FROM business_temp_table \n",
    "    where size(reviews.stars)  >  0 \n",
    "    limit 5\"\"\").show()"
   ]
  },
  {
   "cell_type": "code",
   "execution_count": 17,
   "metadata": {},
   "outputs": [
    {
     "name": "stdout",
     "output_type": "stream",
     "text": [
      "+------+-----------+\n",
      "| stars|count_stars|\n",
      "+------+-----------+\n",
      "|   [5]|       4258|\n",
      "|    []|       3067|\n",
      "|[5, 5]|       1610|\n",
      "|   [1]|       1559|\n",
      "|   [,]|        958|\n",
      "+------+-----------+\n",
      "\n"
     ]
    }
   ],
   "source": [
    "spark.sql(\"\"\"SELECT reviews.stars,count(reviews.stars) as count_stars FROM\n",
    "          business_temp_table \n",
    "          where size(reviews.stars) > 0\n",
    "          group by reviews.stars order by count(reviews.stars) \n",
    "          desc limit 5\"\"\").show()"
   ]
  },
  {
   "cell_type": "markdown",
   "metadata": {},
   "source": [
    "**11. More work with Ratings**  \n",
    "\n",
    "For this question, you will filter out null ratings and then compute the average rating for each business location (using the field: `id`).\n",
    "\n",
    "\n",
    "a) (1 PT) Create a new dataframe retaining two fields: `id`, `reviews.stars`\n"
   ]
  },
  {
   "cell_type": "code",
   "execution_count": 18,
   "metadata": {},
   "outputs": [
    {
     "name": "stdout",
     "output_type": "stream",
     "text": [
      "+----------------+--------------------+\n",
      "|              id|             reviews|\n",
      "+----------------+--------------------+\n",
      "|000136e65d50c3b7|              [4, 4]|\n",
      "|0003b7589a4e12a0|                 [5]|\n",
      "|00045f958e4bb02a|               [,,,]|\n",
      "|00059519f0dba1b4|[,,,,,,,, 1, 5, 2...|\n",
      "|0008bc70f8ba62bf|                  []|\n",
      "|000a1df4c8e0ecd2|  [,, 4, 5, 5, 4, 5]|\n",
      "|000c7b7a30623083|                 [5]|\n",
      "|000c9ffc8b89af03|[5, 2, 5, 3, 3, 1...|\n",
      "|000de20baa847ecc|  [1, 1, 1, 1, 5, 1]|\n",
      "|001064359d9f162f|     [5, 5, 5, 5, 5]|\n",
      "|0010c9f495d87dd7|[5, 1, 1, 5, 3, 5...|\n",
      "|0017774db5e6400a|[, 5, 5, 5, 5, 5, 1]|\n",
      "|00182a8380f6a08d|         [, 5, 1, 1]|\n",
      "|001923e6a178e04f|[5, 1, 5, 5, 5, 5...|\n",
      "|001b5ed931a82f14|                 [4]|\n",
      "|001cc291d0c17d09|[3, 4, 5, 5, 5, 5...|\n",
      "|001d8a61529e8843|        [1, 5, 5, 5]|\n",
      "|001e40ff8bc1ce74|              [5, 5]|\n",
      "|001e56776942132b|[,,,,,,,,,,,,,, 2...|\n",
      "|001f9c3f0addd2ea|[5, 5, 2, 3, 4, 5...|\n",
      "+----------------+--------------------+\n",
      "only showing top 20 rows\n",
      "\n"
     ]
    }
   ],
   "source": [
    "df2 = spark.sql ('''select id, reviews.stars as reviews \n",
    "    from business_temp_table \n",
    "    where reviews.stars is not null\n",
    "    and size(reviews.stars) > 0''')\n",
    "df2.show()"
   ]
  },
  {
   "cell_type": "markdown",
   "metadata": {},
   "source": [
    "b) (1 PT) Create a row for each rating  \n",
    "hint: use the `withColumn()` and `explode()` functions  \n",
    "you will need to import the `explode()` function by issuing:\n",
    "\n",
    "`from pyspark.sql.functions import explode`\n"
   ]
  },
  {
   "cell_type": "code",
   "execution_count": 19,
   "metadata": {},
   "outputs": [
    {
     "name": "stdout",
     "output_type": "stream",
     "text": [
      "root\n",
      " |-- id: string (nullable = true)\n",
      " |-- rating: long (nullable = true)\n",
      "\n",
      "+----------------+------+\n",
      "|              id|rating|\n",
      "+----------------+------+\n",
      "|000136e65d50c3b7|     4|\n",
      "|000136e65d50c3b7|     4|\n",
      "|0003b7589a4e12a0|     5|\n",
      "|00045f958e4bb02a|  null|\n",
      "|00045f958e4bb02a|  null|\n",
      "|00045f958e4bb02a|  null|\n",
      "|00045f958e4bb02a|  null|\n",
      "|00059519f0dba1b4|  null|\n",
      "|00059519f0dba1b4|  null|\n",
      "|00059519f0dba1b4|  null|\n",
      "|00059519f0dba1b4|  null|\n",
      "|00059519f0dba1b4|  null|\n",
      "|00059519f0dba1b4|  null|\n",
      "|00059519f0dba1b4|  null|\n",
      "|00059519f0dba1b4|  null|\n",
      "|00059519f0dba1b4|     1|\n",
      "|00059519f0dba1b4|     5|\n",
      "|00059519f0dba1b4|     2|\n",
      "|00059519f0dba1b4|     4|\n",
      "|00059519f0dba1b4|     5|\n",
      "+----------------+------+\n",
      "only showing top 20 rows\n",
      "\n"
     ]
    }
   ],
   "source": [
    "from pyspark.sql.functions import explode\n",
    "df3 = df.select(df.id,explode(df.reviews.stars)) \\\n",
    "    .withColumnRenamed(\"col\", \"rating\")\\\n",
    "    \n",
    "df3.printSchema()\n",
    "df3.show()"
   ]
  },
  {
   "cell_type": "markdown",
   "metadata": {},
   "source": [
    "c) (1 PT) Return a count of the number of ratings in this dataframe"
   ]
  },
  {
   "cell_type": "code",
   "execution_count": 20,
   "metadata": {},
   "outputs": [
    {
     "data": {
      "text/plain": [
       "538241"
      ]
     },
     "execution_count": 20,
     "metadata": {},
     "output_type": "execute_result"
    }
   ],
   "source": [
    "#not counting null reviews\n",
    "df3.where(df3.rating.isNotNull()).count()"
   ]
  },
  {
   "cell_type": "code",
   "execution_count": 21,
   "metadata": {},
   "outputs": [
    {
     "data": {
      "text/plain": [
       "600082"
      ]
     },
     "execution_count": 21,
     "metadata": {},
     "output_type": "execute_result"
    }
   ],
   "source": [
    "df3.count()"
   ]
  },
  {
   "cell_type": "markdown",
   "metadata": {},
   "source": [
    "d) (1 PT) Drop rows where the rating is null, and return a count of the number of non-null ratings"
   ]
  },
  {
   "cell_type": "code",
   "execution_count": 22,
   "metadata": {},
   "outputs": [
    {
     "name": "stdout",
     "output_type": "stream",
     "text": [
      "+----------------+------+\n",
      "|id              |rating|\n",
      "+----------------+------+\n",
      "|000136e65d50c3b7|4     |\n",
      "|000136e65d50c3b7|4     |\n",
      "|0003b7589a4e12a0|5     |\n",
      "|00059519f0dba1b4|1     |\n",
      "|00059519f0dba1b4|5     |\n",
      "|00059519f0dba1b4|2     |\n",
      "|00059519f0dba1b4|4     |\n",
      "|00059519f0dba1b4|5     |\n",
      "|00059519f0dba1b4|1     |\n",
      "|00059519f0dba1b4|4     |\n",
      "|00059519f0dba1b4|4     |\n",
      "|00059519f0dba1b4|4     |\n",
      "|000a1df4c8e0ecd2|4     |\n",
      "|000a1df4c8e0ecd2|5     |\n",
      "|000a1df4c8e0ecd2|5     |\n",
      "|000a1df4c8e0ecd2|4     |\n",
      "|000a1df4c8e0ecd2|5     |\n",
      "|000c7b7a30623083|5     |\n",
      "|000c9ffc8b89af03|5     |\n",
      "|000c9ffc8b89af03|2     |\n",
      "+----------------+------+\n",
      "only showing top 20 rows\n",
      "\n"
     ]
    }
   ],
   "source": [
    "df4 = df3.na.drop() \\\n",
    "   .show(truncate=False)"
   ]
  },
  {
   "cell_type": "markdown",
   "metadata": {},
   "source": [
    "e) (1 PT) Compute the average rating, grouped by `id`. After the average is computed, sort by `id` in ascending order and show the top 10 records.  \n",
    " \n",
    "hint:   \n",
    "this can all be done in one line using the `agg()` function  \n",
    "this `id` should be at the top: 000136e65d50c3b7|"
   ]
  },
  {
   "cell_type": "code",
   "execution_count": 23,
   "metadata": {},
   "outputs": [
    {
     "name": "stdout",
     "output_type": "stream",
     "text": [
      "+----------------+------------------+\n",
      "|              id|       avg(rating)|\n",
      "+----------------+------------------+\n",
      "|000136e65d50c3b7|               4.0|\n",
      "|0003b7589a4e12a0|               5.0|\n",
      "|00059519f0dba1b4|3.3333333333333335|\n",
      "|000a1df4c8e0ecd2|               4.6|\n",
      "|000c7b7a30623083|               5.0|\n",
      "|000c9ffc8b89af03|               3.0|\n",
      "|000de20baa847ecc|1.6666666666666667|\n",
      "|001064359d9f162f|               5.0|\n",
      "|0010c9f495d87dd7|               3.0|\n",
      "|0017774db5e6400a| 4.333333333333333|\n",
      "+----------------+------------------+\n",
      "only showing top 10 rows\n",
      "\n"
     ]
    }
   ],
   "source": [
    "df3.where(df3.rating.isNotNull())\\\n",
    "    .groupby('id')\\\n",
    "    .avg('rating') \\\n",
    "    .sort('id')\\\n",
    "    .show(10)"
   ]
  },
  {
   "cell_type": "code",
   "execution_count": 24,
   "metadata": {},
   "outputs": [
    {
     "name": "stdout",
     "output_type": "stream",
     "text": [
      "[NbConvertApp] Converting notebook DS5559_M3HW_JayHombal.ipynb to pdf\n",
      "[NbConvertApp] Writing 51202 bytes to ./notebook.tex\n",
      "[NbConvertApp] Building PDF\n",
      "[NbConvertApp] Running xelatex 3 times: ['xelatex', './notebook.tex', '-quiet']\n",
      "[NbConvertApp] Running bibtex 1 time: ['bibtex', './notebook']\n",
      "[NbConvertApp] WARNING | bibtex had problems, most likely because there were no citations\n",
      "[NbConvertApp] PDF successfully created\n",
      "[NbConvertApp] Writing 61109 bytes to DS5559_M3HW_JayHombal.pdf\n"
     ]
    }
   ],
   "source": [
    "!jupyter nbconvert DS5559_M3HW_JayHombal.ipynb --to pdf"
   ]
  }
 ],
 "metadata": {
  "anaconda-cloud": {},
  "kernelspec": {
   "display_name": "DS 5559",
   "language": "python",
   "name": "ds5559"
  },
  "language_info": {
   "codemirror_mode": {
    "name": "ipython",
    "version": 3
   },
   "file_extension": ".py",
   "mimetype": "text/x-python",
   "name": "python",
   "nbconvert_exporter": "python",
   "pygments_lexer": "ipython3",
   "version": "3.7.6"
  }
 },
 "nbformat": 4,
 "nbformat_minor": 4
}
